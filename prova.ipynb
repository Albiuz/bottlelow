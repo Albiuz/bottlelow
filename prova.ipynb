{
    "cells": [
        {
            "cell_type": "code",
            "execution_count": 1,
            "source": [
                "import cv2\n",
                "\n",
                "from tensorflow.keras.models import load_model\n",
                "from tensorflow.keras.preprocessing.image import load_img\n",
                "from tensorflow.keras.preprocessing.image import img_to_array, array_to_img\n",
                "import numpy as np\n",
                "import glob\n",
                "import gpiozero"
            ],
            "outputs": [],
            "metadata": {}
        },
        {
            "cell_type": "code",
            "execution_count": 2,
            "source": [
                "led = gpiozero.LED(19)\n",
                "led.on()"
            ],
            "outputs": [
                {
                    "output_type": "stream",
                    "name": "stderr",
                    "text": [
                        "/home/pi/.virtualenvs/cv/lib/python3.7/site-packages/gpiozero/devices.py:290: PinFactoryFallback: Falling back from rpigpio: No module named 'RPi'\n",
                        "  'Falling back from %s: %s' % (name, str(e))))\n",
                        "/home/pi/.virtualenvs/cv/lib/python3.7/site-packages/gpiozero/devices.py:290: PinFactoryFallback: Falling back from lgpio: No module named 'lgpio'\n",
                        "  'Falling back from %s: %s' % (name, str(e))))\n",
                        "/home/pi/.virtualenvs/cv/lib/python3.7/site-packages/gpiozero/devices.py:290: PinFactoryFallback: Falling back from rpio: No module named 'RPIO'\n",
                        "  'Falling back from %s: %s' % (name, str(e))))\n",
                        "/home/pi/.virtualenvs/cv/lib/python3.7/site-packages/gpiozero/devices.py:290: PinFactoryFallback: Falling back from pigpio: No module named 'pigpio'\n",
                        "  'Falling back from %s: %s' % (name, str(e))))\n",
                        "/home/pi/.virtualenvs/cv/lib/python3.7/site-packages/gpiozero/devices.py:285: NativePinFactoryFallback: Falling back to the experimental pin factory NativeFactory because no other pin factory could be loaded. For best results, install RPi.GPIO or pigpio. See https://gpiozero.readthedocs.io/en/stable/api_pins.html for more information.\n",
                        "  warnings.warn(NativePinFactoryFallback(native_fallback_message))\n"
                    ]
                }
            ],
            "metadata": {}
        },
        {
            "cell_type": "code",
            "execution_count": 7,
            "source": [
                "cap = cv2.VideoCapture(0)\n",
                "\n",
                "ret, frame = cap.read()\n",
                "frame = cv2.rotate(frame, cv2.ROTATE_90_CLOCKWISE)\n",
                "\n",
                "cap.release()"
            ],
            "outputs": [],
            "metadata": {}
        },
        {
            "cell_type": "code",
            "execution_count": 4,
            "source": [
                "led.off()"
            ],
            "outputs": [],
            "metadata": {}
        },
        {
            "cell_type": "code",
            "execution_count": 6,
            "source": [
                "frame = cv2.rotate(frame,cv2.ROTATE_90_CLOCKWISE)"
            ],
            "outputs": [],
            "metadata": {}
        },
        {
            "cell_type": "code",
            "execution_count": 7,
            "source": [
                "cv2.imwrite('bg.jpg', frame)"
            ],
            "outputs": [
                {
                    "output_type": "execute_result",
                    "data": {
                        "text/plain": [
                            "True"
                        ]
                    },
                    "metadata": {},
                    "execution_count": 7
                }
            ],
            "metadata": {}
        },
        {
            "cell_type": "code",
            "execution_count": 1,
            "source": [
                "class A:\n",
                "    def __init__(self):\n",
                "        self.stampa()\n",
                "    def stampa(self):\n",
                "        print('abc')"
            ],
            "outputs": [],
            "metadata": {}
        },
        {
            "cell_type": "code",
            "execution_count": 2,
            "source": [
                "class AA(A):\n",
                "    def __init__(self):\n",
                "        super().__init__()\n",
                "\n",
                "    def stampa(self):\n",
                "        print('aabbcc')"
            ],
            "outputs": [],
            "metadata": {}
        },
        {
            "cell_type": "code",
            "execution_count": 3,
            "source": [
                "a = AA()"
            ],
            "outputs": [
                {
                    "output_type": "stream",
                    "name": "stdout",
                    "text": [
                        "aabbcc\n"
                    ]
                }
            ],
            "metadata": {}
        },
        {
            "cell_type": "code",
            "execution_count": null,
            "source": [],
            "outputs": [],
            "metadata": {}
        }
    ],
    "metadata": {
        "orig_nbformat": 4,
        "language_info": {
            "name": "python",
            "version": "3.7.3",
            "mimetype": "text/x-python",
            "codemirror_mode": {
                "name": "ipython",
                "version": 3
            },
            "pygments_lexer": "ipython3",
            "nbconvert_exporter": "python",
            "file_extension": ".py"
        },
        "kernelspec": {
            "name": "python3",
            "display_name": "Python 3.7.3 32-bit ('cv': virtualenv)"
        },
        "interpreter": {
            "hash": "567e6a70824d0bd425f2585098c1a495ae6c6e62672ad90177cce8b209e0bc2a"
        }
    },
    "nbformat": 4,
    "nbformat_minor": 2
}